{
 "cells": [
  {
   "cell_type": "markdown",
   "metadata": {},
   "source": [
    "# Découvrir Jupiter\n",
    "\n",
    "![Jupiter](https://upload.wikimedia.org/wikipedia/commons/e/e2/Jupiter.jpg)\n",
    "\n",
    "![doh](https://media.giphy.com/media/xT5LMESsx1kUe8Hiyk/giphy.gif)\n",
    "\n",
    "## Oh Mordel de Berde ! Je reprends ! \n",
    "\n",
    "# Découvrir Jupyter\n",
    "\n",
    "Bon, maintenant qu'on a fait la p'tite blagounette bien naze, je pense qu'on peut faire un tour rapide des possibilités avec Jupyter. \n",
    "\n",
    "C'est un bon moyen de tester du code en direct (avec des sorties graphiques en utilisant *Matplotlib* ou *Bokeh*, comme on le verra par la suite) et surtout un support assez souple pour faire des cours ou des TD ou encore illustrer, avec des sorties dynamiques, une démarche techniques ou scientifiques. \n",
    "\n",
    "On peut aussi l'utiliser pour produire des sorties d'un modèle en changeant de manière dynamique les paramètres d'entrée. Donc on peut rendre un modèle accessible sans pour autant devoir développer une application pour cela (*à tout le moins, un notebook Jupyter pourrait servir de bêta*). \n",
    "\n",
    "Il peut aussi permettre de sortir une page HTML sans trop d'effort, et donc donner une sortie avec explications et illustrations dynamiques qui pourra être vue par n'importe qui disposant d'un navigateur un tant soit peu correct. \n",
    "\n",
    "Donc Jupyter = Markdown, Python, HTML, Latex, ... Bref, du lourd mec ! \n",
    "\n",
    "![noice](https://media.giphy.com/media/PhKhSXofSAm3e/giphy-tumblr.gif) \n",
    "\n",
    "> *Alors petit aparté, mais pour ceux qui ne connaissent pas la référence précédente, s'agirait de se mettre au parfum ou d'aller se pendre, enfin je dis ça je dis rien, hein, mais bon ... *\n",
    "\n",
    "## Intégrer une vidéo ? Allez ! \n",
    "\n",
    "Alors ils ont tout prévu, donc on va utiliser les outils à disposition ! "
   ]
  },
  {
   "cell_type": "code",
   "execution_count": null,
   "metadata": {},
   "outputs": [],
   "source": [
    "from IPython.display import YouTubeVideo\n",
    "\n",
    "YouTubeVideo('dSjvK-Z3o3U')"
   ]
  },
  {
   "cell_type": "markdown",
   "metadata": {},
   "source": [
    "## Exécuter du code et faire une sortie sympa, un jeu d'enfant !\n",
    "\n",
    "Alors bon je dis un jeu d'enfant, peut-être pas tant que ça, mais faut bien vous mentir un peu pour vous motiver hein ! \n",
    "Et puis, vous êtes des spécialistes de l'informatique, donc aucun problème pour vous ! \n",
    "\n",
    "Bref, ceci étant dit, on va faire un peu de géographie histoire que j'en place une et que je tente de faire le malin (*oui c'est exact, \"tenter\" sous-entend un échec potentiel, c'est normal, parce que je fais le malin mais j'ai conscience d'être mauvais quand même*)\n",
    "\n",
    "Bref, on affiche des bâtiments issus d'OpenStreetMap sur un fond carto et tout ça en dynamique. \n",
    "\n",
    "On va utiliser [osmnx](http://osmnx.readthedocs.io/en/stable/osmnx.html) et [bokeh](https://bokeh.pydata.org/en/latest/index.html) et on va s'appuyer sur ce [tuto](https://automating-gis-processes.github.io/2016/Lesson5-interactive-map-bokeh.html) pas piqué des vers (*ouais j'aime bien \"pas piqué des hannetons\" mais c'est copyrighté Amixem désormais*) ! "
   ]
  },
  {
   "cell_type": "code",
   "execution_count": null,
   "metadata": {},
   "outputs": [],
   "source": [
    "import osmnx as ox\n",
    "\n",
    "#On chope les bâtiments de l'INSA\n",
    "adresse = \"8 Avenue Jean Capelle O, Villeurbanne, France\"\n",
    "distance = 100 #metres\n",
    "batiment = ox.buildings.buildings_from_address(adresse, distance, retain_invalid=False)"
   ]
  },
  {
   "cell_type": "markdown",
   "metadata": {},
   "source": [
    "Bon ben voyons ce qu'il y a là-dedans !"
   ]
  },
  {
   "cell_type": "code",
   "execution_count": null,
   "metadata": {},
   "outputs": [],
   "source": [
    "batiment"
   ]
  },
  {
   "cell_type": "markdown",
   "metadata": {},
   "source": [
    "Et bien des données OSM sous la forme d'un GeoDataframe (Dataframe [pandas](https://pandas.pydata.org) avec une géometrie). D'ailleurs, en pensant, si vous ne connaissez pas Pandas, je vous conseille d'aller jeter un oeil, car cette librairie permet des traitements très rapides sous Python grâce à l'usage de tableaux (*array*).  \n",
    "\n",
    "Bon, comment on affiche ça de manière sympathique ? Ben avec Bokeh tiens, mais vous ne suivez rien nondidju !!!\n",
    "\n",
    "Il va falloir faire quelques ajustements pour que tout cela colle avec la manière de fonctionner de Bokeh (*tout se gère par l'objet ColumnDataSource*) et notamment reprojeter en EPSG: 3857. Pourquoi la projection c'est important ? Ben pour [ça](https://bl.ocks.org/mbostock/3711652). \n",
    "\n",
    "Une mauvaise projection peut fausser tous les calculs de distance par exemple (*notamment si vous êtes dans une projection qui fonctionne avec des degrés et que vous voulez utiliser des mètres*).\n",
    "\n",
    "Bon notez qu'on peut utiliser directement Matplotlib quand même pour un premier aperçu ! \n",
    "\n",
    "> Alors petit avertissement pour les foufous qui voudraient tester Bokeh dans toute sa splendeur, il faut savoir que certains widgets qui lancent des fonctions d'update ne fonctionneront pas dans un notebook, il faudra lancer une appplication via Bokeh serve (*ceux que ça intéresse, on pourra en parler ou ils pourront aller se renseigner directement sur le site de Bokeh*)"
   ]
  },
  {
   "cell_type": "code",
   "execution_count": null,
   "metadata": {},
   "outputs": [],
   "source": [
    "import matplotlib.pyplot as plt\n",
    "%matplotlib inline  \n",
    "\n",
    "batiment.plot()"
   ]
  },
  {
   "cell_type": "markdown",
   "metadata": {},
   "source": [
    "Bref revenons à nos moutons et à leur projection. On vérifie d'abord que le GeoDataframe dispose d'une projection, et ensuite on va le reprojeter en 3857. "
   ]
  },
  {
   "cell_type": "code",
   "execution_count": null,
   "metadata": {},
   "outputs": [],
   "source": [
    "batiment.crs"
   ]
  },
  {
   "cell_type": "code",
   "execution_count": null,
   "metadata": {},
   "outputs": [],
   "source": [
    "batiment = batiment.to_crs({'init': 'epsg:3857'})\n",
    "batiment"
   ]
  },
  {
   "cell_type": "markdown",
   "metadata": {},
   "source": [
    "Et hop, on peut déjà constater que les coordonnées n'ont plus la même tronche. Et un petit plot() le montre même ! Bon on essaie ça et après c'est parti pour du dynamique avec Bokeh. "
   ]
  },
  {
   "cell_type": "code",
   "execution_count": null,
   "metadata": {},
   "outputs": [],
   "source": [
    "import matplotlib.pyplot as plt\n",
    "%matplotlib inline  \n",
    "\n",
    "batiment.plot()"
   ]
  },
  {
   "cell_type": "markdown",
   "metadata": {},
   "source": [
    "Bon maintenant on utilise une fonction bien pratique pour transformer tout ça au format souhaité par Bokeh et ensuite on construit la figure avec un fond de plan OSM/[Stamen](http://maps.stamen.com/#terrain/12/37.7706/-122.3782) qui est déjà intégré dans les paramètres utilisables sous Bokeh. "
   ]
  },
  {
   "cell_type": "code",
   "execution_count": null,
   "metadata": {},
   "outputs": [],
   "source": [
    "#On pique discrètement une petite fonction ici:\n",
    "#(https://automating-gis-processes.github.io/2016/Lesson5-interactive-map-bokeh.html)\n",
    "from bokeh.models import ColumnDataSource\n",
    "\n",
    "def getPolyCoords(row, geom, coord_type):\n",
    "    \"\"\"Returns the coordinates ('x' or 'y') of edges of a Polygon exterior\"\"\"\n",
    "\n",
    "    # Parse the exterior of the coordinate\n",
    "    exterior = row[geom].exterior\n",
    "\n",
    "    if coord_type == 'x':\n",
    "        # Get the x coordinates of the exterior\n",
    "        return list( exterior.coords.xy[0] )\n",
    "    elif coord_type == 'y':\n",
    "        # Get the y coordinates of the exterior\n",
    "        return list( exterior.coords.xy[1] )\n",
    "\n",
    "#Et on transforme notre jeu de données\n",
    "batiment['x'] = batiment.apply(getPolyCoords, geom='geometry', coord_type='x', axis=1)\n",
    "batiment['y'] = batiment.apply(getPolyCoords, geom='geometry', coord_type='y', axis=1)\n",
    "\n",
    "bat_df = batiment.drop('geometry', axis=1).copy()\n",
    "bat_source = ColumnDataSource(bat_df)"
   ]
  },
  {
   "cell_type": "code",
   "execution_count": null,
   "metadata": {},
   "outputs": [],
   "source": [
    "from bokeh.plotting import figure, output_file, show, output_notebook\n",
    "from bokeh.tile_providers import STAMEN_TERRAIN_RETINA\n",
    "\n",
    "output_notebook()\n",
    "\n",
    "p = figure(title=\"Test\",plot_height=800, plot_width=800)\n",
    "\n",
    "p.patches('x', 'y', source=bat_source,\n",
    "         fill_color=\"green\",\n",
    "         fill_alpha=1.0, line_color=\"black\", line_width=0.05)\n",
    "\n",
    "p.add_tile(STAMEN_TERRAIN_RETINA, alpha=0.5)\n",
    "\n",
    "show(p)"
   ]
  },
  {
   "cell_type": "markdown",
   "metadata": {},
   "source": [
    "## De la 3D vous dites ? \n",
    "\n",
    "Alors vite fait pour le fun, on va utiliser [Cesium.js](https://cesiumjs.org) mais dans Python (*via la librairie [cesiumpy](https://github.com/sinhrks/cesiumpy)). \n",
    "\n",
    "Du coup, faut reprojeter en 4326 pour coller avec les paramètres de Cesium (heureusement c'est simple), la petite fonction qui va bien et hop !\n",
    "\n",
    "> **Alors petit avertissement avant de lancer: ça risque de vous bouffer pas mal de ram, donc faites attention.**\n",
    "\n",
    "> Si vous avez une erreur JavaScript, pas de panique, refaites l'exécution du code. "
   ]
  },
  {
   "cell_type": "code",
   "execution_count": null,
   "metadata": {},
   "outputs": [],
   "source": [
    "import itertools\n",
    "import cesiumpy\n",
    "\n",
    "batiment = batiment.to_crs({\"init\":\"epsg:4326\"})\n",
    "\n",
    "def poly_to_cesium(poly):\n",
    "    coords = poly.exterior.coords.xy\n",
    "    l_coords = zip(list(coords[0]),list(coords[1]))\n",
    "    l_coords = list(itertools.chain(*l_coords))\n",
    "    p = cesiumpy.Polygon(hierarchy = l_coords, extrudedHeight = 10)\n",
    "    \n",
    "    return p\n",
    "    \n",
    "\n",
    "batiment[\"cesium_poly\"] = batiment[\"geometry\"].apply(poly_to_cesium)\n",
    "\n",
    "v = cesiumpy.Viewer()\n",
    "# Transform gdf Serie to list\n",
    "l_poly = batiment.cesium_poly.tolist()\n",
    "\n",
    "for poly in l_poly:\n",
    "    v.entities.add(poly)\n",
    "    \n",
    "v"
   ]
  }
 ],
 "metadata": {
  "kernelspec": {
   "display_name": "Python 3",
   "language": "python",
   "name": "python3"
  },
  "language_info": {
   "codemirror_mode": {
    "name": "ipython",
    "version": 3
   },
   "file_extension": ".py",
   "mimetype": "text/x-python",
   "name": "python",
   "nbconvert_exporter": "python",
   "pygments_lexer": "ipython3",
   "version": "3.6.4"
  }
 },
 "nbformat": 4,
 "nbformat_minor": 2
}
